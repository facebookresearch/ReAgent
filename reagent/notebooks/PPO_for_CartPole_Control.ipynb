{
 "cells": [
  {
   "cell_type": "markdown",
   "metadata": {},
   "source": [
    "We will use the [CartPole-v1](https://gym.openai.com/envs/CartPole-v0/) OpenAI Gym environment. For reproducibility, let is fix a random seed."
   ]
  },
  {
   "cell_type": "code",
   "execution_count": 1,
   "metadata": {
    "ExecuteTime": {
     "end_time": "2021-02-25T00:00:43.355142Z",
     "start_time": "2021-02-25T00:00:40.650953Z"
    }
   },
   "outputs": [
    {
     "name": "stderr",
     "output_type": "stream",
     "text": [
      "I0224 160042.161 dataclasses.py:48] USE_VANILLA_DATACLASS: True\n",
      "I0224 160042.162 dataclasses.py:49] ARBITRARY_TYPES_ALLOWED: True\n",
      "W0224 160042.172 file_io.py:72] ** fvcore version of PathManager will be deprecated soon. **\n",
      "** Please migrate to the version in iopath repo. **\n",
      "https://github.com/facebookresearch/iopath \n",
      "\n",
      "W0224 160042.177 manifold.py:86] ** fvcore version of PathManager will be deprecated soon. **\n",
      "** Please migrate to iopath. **\n",
      "\n",
      "I0224 160042.178 io.py:19] Registered Manifold PathManager\n",
      "W0224 160042.180 manifold.py:86] ** fvcore version of PathManager will be deprecated soon. **\n",
      "** Please migrate to iopath. **\n",
      "\n",
      "I0224 160042.180 patch.py:95] Patched torch.load, torch.save, torch.jit.load and save to handle Manifold uri\n",
      "I0224 160042.333 registry_meta.py:19] Adding REGISTRY to type TrainingReport\n",
      "I0224 160042.334 registry_meta.py:40] Not Registering TrainingReport to TrainingReport. Abstract method [] are not implemented.\n",
      "I0224 160042.334 registry_meta.py:19] Adding REGISTRY to type PublishingResult\n",
      "I0224 160042.335 registry_meta.py:40] Not Registering PublishingResult to PublishingResult. Abstract method [] are not implemented.\n",
      "I0224 160042.336 registry_meta.py:19] Adding REGISTRY to type ValidationResult\n",
      "I0224 160042.337 registry_meta.py:40] Not Registering ValidationResult to ValidationResult. Abstract method [] are not implemented.\n",
      "I0224 160042.338 registry_meta.py:31] Registering NoPublishingResults to PublishingResult\n",
      "I0224 160042.339 registry_meta.py:34] Using no_publishing_results instead of NoPublishingResults\n",
      "I0224 160042.341 registry_meta.py:31] Registering NoValidationResults to ValidationResult\n",
      "I0224 160042.341 registry_meta.py:34] Using no_validation_results instead of NoValidationResults\n",
      "I0224 160042.347 registry_meta.py:31] Registering SchedulingFrequencyValidationResults to ValidationResult\n",
      "I0224 160042.348 registry_meta.py:34] Using scheduling_frequency_validation_results instead of SchedulingFrequencyValidationResults\n",
      "I0224 160042.349 registry_meta.py:31] Registering PDIVFilterValidationResults to ValidationResult\n",
      "I0224 160042.350 registry_meta.py:34] Using pdiv_filter_validation_results instead of PDIVFilterValidationResults\n",
      "I0224 160042.352 registry_meta.py:31] Registering Seq2SlateValidationResults to ValidationResult\n",
      "I0224 160042.353 registry_meta.py:34] Using seq2slate_validation_results instead of Seq2SlateValidationResults\n",
      "I0224 160042.354 registry_meta.py:31] Registering SchedulingFrequencyPublishingResults to PublishingResult\n",
      "I0224 160042.355 registry_meta.py:34] Using scheduling_frequency_publishing_results instead of SchedulingFrequencyPublishingResults\n",
      "I0224 160042.356 registry_meta.py:31] Registering PDIVFilterPublishingResults to PublishingResult\n",
      "I0224 160042.356 registry_meta.py:34] Using pdiv_filter_publishing_results instead of PDIVFilterPublishingResults\n",
      "I0224 160042.358 registry_meta.py:31] Registering FeedPublishingResults to PublishingResult\n",
      "I0224 160042.359 registry_meta.py:34] Using feed_publishing_results instead of FeedPublishingResults\n",
      "I0224 160042.361 registry_meta.py:31] Registering ScoreFblearnerPredictorPublishingResult to PublishingResult\n",
      "I0224 160042.361 registry_meta.py:34] Using score_offline_results instead of ScoreFblearnerPredictorPublishingResult\n",
      "I0224 160042.363 registry_meta.py:31] Registering ScoreSeq2SlateOutput to PublishingResult\n",
      "I0224 160042.363 registry_meta.py:34] Using score_seq2slate_offline instead of ScoreSeq2SlateOutput\n",
      "I0224 160042.365 registry_meta.py:31] Registering IPSResult to PublishingResult\n",
      "I0224 160042.365 registry_meta.py:34] Using learnvm_ips_result instead of IPSResult\n",
      "I0224 160042.367 registry_meta.py:31] Registering SlateRewardFeatureImportanceOutput to PublishingResult\n",
      "I0224 160042.368 registry_meta.py:34] Using slate_reward_feature_importance instead of SlateRewardFeatureImportanceOutput\n",
      "I0224 160042.372 dataclasses.py:73] Setting IdMapping.__post_init__ to its __post_init_post_parse__\n",
      "I0224 160042.373 dataclasses.py:73] Setting ModelFeatureConfig.__post_init__ to its __post_init_post_parse__\n",
      "I0224 160042.407 registry_meta.py:19] Adding REGISTRY to type LearningRateSchedulerConfig\n",
      "I0224 160042.408 registry_meta.py:40] Not Registering LearningRateSchedulerConfig to LearningRateSchedulerConfig. Abstract method [] are not implemented.\n",
      "I0224 160042.410 registry_meta.py:19] Adding REGISTRY to type OptimizerConfig\n",
      "I0224 160042.410 registry_meta.py:40] Not Registering OptimizerConfig to OptimizerConfig. Abstract method [] are not implemented.\n",
      "I0224 160042.411 registry_meta.py:31] Registering Adam to OptimizerConfig\n",
      "I0224 160042.413 registry_meta.py:31] Registering SGD to OptimizerConfig\n",
      "I0224 160042.414 registry_meta.py:31] Registering AdamW to OptimizerConfig\n",
      "I0224 160042.416 registry_meta.py:31] Registering SparseAdam to OptimizerConfig\n",
      "I0224 160042.418 registry_meta.py:31] Registering Adamax to OptimizerConfig\n",
      "I0224 160042.419 registry_meta.py:31] Registering LBFGS to OptimizerConfig\n",
      "I0224 160042.421 registry_meta.py:31] Registering Rprop to OptimizerConfig\n",
      "I0224 160042.423 registry_meta.py:31] Registering ASGD to OptimizerConfig\n",
      "I0224 160042.424 registry_meta.py:31] Registering Adadelta to OptimizerConfig\n",
      "I0224 160042.426 registry_meta.py:31] Registering Adagrad to OptimizerConfig\n",
      "I0224 160042.427 registry_meta.py:31] Registering RMSprop to OptimizerConfig\n",
      "I0224 160042.449 dataclasses.py:73] Setting Seq2SlateNet.__post_init__ to its __post_init_post_parse__\n",
      "I0224 160042.468 dataclasses.py:73] Setting CRRWeightFn.__post_init__ to its __post_init_post_parse__\n",
      "I0224 160042.489 registry_meta.py:19] Adding REGISTRY to type EnvWrapper\n",
      "I0224 160042.490 registry_meta.py:40] Not Registering EnvWrapper to EnvWrapper. Abstract method ['serving_obs_preprocessor', 'make', 'obs_preprocessor'] are not implemented.\n",
      "I0224 160042.490 dataclasses.py:73] Setting EnvWrapper.__post_init__ to its __post_init_post_parse__\n",
      "I0224 160042.496 registry_meta.py:31] Registering ChangingArms to EnvWrapper\n",
      "I0224 160042.513 registry_meta.py:31] Registering Gym to EnvWrapper\n",
      "I0224 160042.517 utils.py:18] Registering id=Pocman-v0, entry_point=reagent.gym.envs.pomdp.pocman:PocManEnv.\n",
      "I0224 160042.518 utils.py:18] Registering id=StringGame-v0, entry_point=reagent.gym.envs.pomdp.string_game:StringGameEnv.\n",
      "I0224 160042.519 utils.py:18] Registering id=LinearDynamics-v0, entry_point=reagent.gym.envs.dynamics.linear_dynamics:LinDynaEnv.\n",
      "I0224 160042.519 utils.py:18] Registering id=PossibleActionsMaskTester-v0, entry_point=reagent.gym.envs.functionality.possible_actions_mask_tester:PossibleActionsMaskTester.\n",
      "I0224 160042.520 utils.py:18] Registering id=StringGame-v1, entry_point=reagent.gym.envs.pomdp.string_game_v1:StringGameEnvV1.\n",
      "I0224 160042.551 registry_meta.py:31] Registering RecSim to EnvWrapper\n",
      "I0224 160042.552 dataclasses.py:73] Setting RecSim.__post_init__ to its __post_init_post_parse__\n",
      "I0224 160042.555 registry_meta.py:31] Registering OraclePVM to EnvWrapper\n",
      "I0224 160042.556 dataclasses.py:73] Setting OraclePVM.__post_init__ to its __post_init_post_parse__\n",
      "I0224 160042.565 registry_meta.py:31] Registering ToyVM to EnvWrapper\n",
      "\n",
      "Bad key \"axes.color_cycle\" on line 214 in\n",
      "/home/alexnik/.matplotlib/matplotlibrc.\n",
      "You probably need to get an updated matplotlibrc file from\n",
      "https://github.com/matplotlib/matplotlib/blob/v3.1.2/matplotlibrc.template\n",
      "or from the matplotlib source distribution\n"
     ]
    }
   ],
   "source": [
    "import pytorch_lightning as pl\n",
    "from reagent.gym.envs.gym import Gym\n",
    "import pandas as pd\n",
    "from matplotlib import pyplot as plt\n",
    "import seaborn as sns\n",
    "import numpy as np\n",
    "import torch\n",
    "import torch.nn.functional as F\n",
    "import tqdm.autonotebook as tqdm"
   ]
  },
  {
   "cell_type": "code",
   "execution_count": 2,
   "metadata": {
    "ExecuteTime": {
     "end_time": "2021-02-25T00:00:43.533034Z",
     "start_time": "2021-02-25T00:00:43.357339Z"
    }
   },
   "outputs": [
    {
     "name": "stderr",
     "output_type": "stream",
     "text": [
      "I0224 160043.363 env_wrapper.py:38] Env: <TimeLimit<CartPoleEnv<CartPole-v0>>>;\n",
      "observation_space: Box(4,);\n",
      "action_space: Discrete(2);\n",
      "I0224 160043.365 seed.py:57] Global seed set to 0\n"
     ]
    },
    {
     "data": {
      "text/plain": [
       "0"
      ]
     },
     "execution_count": 2,
     "metadata": {
      "bento_obj_id": "139979157612704"
     },
     "output_type": "execute_result"
    }
   ],
   "source": [
    "env = Gym('CartPole-v0')\n",
    "env.seed(0)\n",
    "env.action_space.seed(0)\n",
    "pl.seed_everything(0)"
   ]
  },
  {
   "cell_type": "markdown",
   "metadata": {},
   "source": [
    "The `policy` is composed of a simple scorer (a MLP) and a softmax sampler. Our `agent` simply executes this policy in the CartPole Environment."
   ]
  },
  {
   "cell_type": "code",
   "execution_count": 3,
   "metadata": {
    "ExecuteTime": {
     "end_time": "2021-02-25T00:00:43.817285Z",
     "start_time": "2021-02-25T00:00:43.535633Z"
    }
   },
   "outputs": [
    {
     "name": "stderr",
     "output_type": "stream",
     "text": [
      "I0224 160043.644 registry_meta.py:19] Adding REGISTRY to type DiscreteDQNNetBuilder\n",
      "I0224 160043.645 registry_meta.py:40] Not Registering DiscreteDQNNetBuilder to DiscreteDQNNetBuilder. Abstract method ['build_q_network'] are not implemented.\n",
      "I0224 160043.645 registry_meta.py:31] Registering Dueling to DiscreteDQNNetBuilder\n",
      "I0224 160043.646 dataclasses.py:73] Setting Dueling.__post_init__ to its __post_init_post_parse__\n",
      "I0224 160043.648 registry_meta.py:31] Registering FullyConnected to DiscreteDQNNetBuilder\n",
      "I0224 160043.649 dataclasses.py:73] Setting FullyConnected.__post_init__ to its __post_init_post_parse__\n",
      "I0224 160043.651 registry_meta.py:31] Registering FullyConnectedWithEmbedding to DiscreteDQNNetBuilder\n",
      "I0224 160043.651 dataclasses.py:73] Setting FullyConnectedWithEmbedding.__post_init__ to its __post_init_post_parse__\n"
     ]
    }
   ],
   "source": [
    "from reagent.net_builder.discrete_dqn.fully_connected import FullyConnected\n",
    "from reagent.gym.utils import build_normalizer\n",
    "\n",
    "norm = build_normalizer(env)\n",
    "net_builder = FullyConnected(sizes=[8], activations=[\"linear\"])\n",
    "cartpole_scorer = net_builder.build_q_network(\n",
    "    state_feature_config=None, \n",
    "    state_normalization_data=norm['state'],\n",
    "    output_dim=len(norm['action'].dense_normalization_parameters))"
   ]
  },
  {
   "cell_type": "code",
   "execution_count": 4,
   "metadata": {
    "ExecuteTime": {
     "end_time": "2021-02-25T00:00:43.994904Z",
     "start_time": "2021-02-25T00:00:43.820165Z"
    }
   },
   "outputs": [],
   "source": [
    "from reagent.gym.policies.policy import Policy\n",
    "from reagent.gym.policies.samplers.discrete_sampler import SoftmaxActionSampler\n",
    "from reagent.gym.agents.agent import Agent\n",
    "\n",
    "\n",
    "policy = Policy(scorer=cartpole_scorer, sampler=SoftmaxActionSampler())\n",
    "agent = Agent.create_for_env(env, policy)"
   ]
  },
  {
   "cell_type": "markdown",
   "metadata": {},
   "source": [
    "Create a trainer that uses the PPO Algorithm to train."
   ]
  },
  {
   "cell_type": "code",
   "execution_count": 5,
   "metadata": {
    "ExecuteTime": {
     "end_time": "2021-02-25T00:00:44.180279Z",
     "start_time": "2021-02-25T00:00:43.997244Z"
    }
   },
   "outputs": [],
   "source": [
    "from reagent.training.ppo_trainer import PPOTrainer\n",
    "from reagent.optimizer.union import classes\n",
    "\n",
    "\n",
    "ppo_trainer = PPOTrainer(\n",
    "    policy=policy,\n",
    "    gamma=0.99,\n",
    "    optimizer=classes['Adam'](lr=8e-3, weight_decay=1e-3),\n",
    "    ppo_epsilon=0.2,\n",
    ")"
   ]
  },
  {
   "cell_type": "markdown",
   "metadata": {},
   "source": [
    "RL Interaction Loop"
   ]
  },
  {
   "cell_type": "code",
   "execution_count": 6,
   "metadata": {
    "ExecuteTime": {
     "end_time": "2021-02-25T00:00:48.623567Z",
     "start_time": "2021-02-25T00:00:44.182376Z"
    }
   },
   "outputs": [
    {
     "name": "stderr",
     "output_type": "stream",
     "text": [
      "I0224 160046.344 gymrunner.py:132] For gamma=1.0, average reward is 18.6\n",
      "Rewards list: [15. 18. 15. 18. 15. 18. 15. 18. 15. 18. 15. 18. 15. 18. 15. 18. 15. 18.\n",
      " 15. 18. 15. 18. 15. 18. 15. 18. 15. 18. 15. 18. 15. 18. 15. 18. 15. 18.\n",
      " 15. 18. 15. 18. 29. 12. 29. 12. 29. 12. 29. 12. 29. 12. 29. 12. 29. 12.\n",
      " 29. 12. 29. 12. 29. 12. 29. 12. 29. 12. 29. 12. 29. 12. 29. 12. 29. 12.\n",
      " 29. 12. 29. 12. 29. 12. 29. 12. 17. 21. 17. 21. 17. 21. 17. 21. 17. 21.\n",
      " 17. 21. 17. 21. 17. 21. 17. 21. 17. 21.]\n"
     ]
    }
   ],
   "source": [
    "from reagent.gym.runners.gymrunner import evaluate_for_n_episodes\n",
    "eval_rewards = evaluate_for_n_episodes(100, env, agent, 500, num_processes=20)"
   ]
  },
  {
   "cell_type": "markdown",
   "metadata": {},
   "source": [
    "Run training loop (managed by Pytorch Lightning)"
   ]
  },
  {
   "cell_type": "code",
   "execution_count": 7,
   "metadata": {
    "ExecuteTime": {
     "end_time": "2021-02-25T00:00:48.807351Z",
     "start_time": "2021-02-25T00:00:48.626018Z"
    }
   },
   "outputs": [
    {
     "name": "stderr",
     "output_type": "stream",
     "text": [
      "I0224 160048.628 seed.py:57] Global seed set to 0\n"
     ]
    },
    {
     "data": {
      "text/plain": [
       "0"
      ]
     },
     "execution_count": 7,
     "metadata": {
      "bento_obj_id": "139979157612704"
     },
     "output_type": "execute_result"
    }
   ],
   "source": [
    "pl.seed_everything(0)"
   ]
  },
  {
   "cell_type": "code",
   "execution_count": 8,
   "metadata": {
    "ExecuteTime": {
     "end_time": "2021-02-25T00:00:48.982293Z",
     "start_time": "2021-02-25T00:00:48.809528Z"
    }
   },
   "outputs": [],
   "source": [
    "num_episodes = 75\n",
    "max_steps = 200\n",
    "reward_decay = 0.8"
   ]
  },
  {
   "cell_type": "code",
   "execution_count": 9,
   "metadata": {
    "ExecuteTime": {
     "end_time": "2021-02-25T00:00:49.170773Z",
     "start_time": "2021-02-25T00:00:48.985979Z"
    }
   },
   "outputs": [
    {
     "name": "stderr",
     "output_type": "stream",
     "text": [
      "I0224 160049.000 distributed.py:54] GPU available: False, used: False\n",
      "I0224 160049.001 distributed.py:54] TPU available: None, using: 0 TPU cores\n"
     ]
    }
   ],
   "source": [
    "from reagent.gym.datasets.episodic_dataset import EpisodicDataset, EpisodicDatasetDataloader\n",
    "\n",
    "pl_trainer = pl.Trainer(max_epochs=1, deterministic=True)\n",
    "dataset = EpisodicDataset(env=env, agent=agent, num_episodes=num_episodes, seed=0, max_steps=max_steps)\n",
    "\n",
    "train_rewards = []\n",
    "class TrainRewardsExtractor(EpisodicDataset):\n",
    "    # a wrapper around a dataset to enable logging of rewards during training\n",
    "    def __init__(self, dataset):\n",
    "        self.dataset = dataset\n",
    "        \n",
    "    def __iter__(self):\n",
    "        for traj in iter(self.dataset):\n",
    "            ep_reward = traj[\"reward\"].sum().item()\n",
    "            train_rewards.append(ep_reward)\n",
    "            yield traj\n",
    "            \n",
    "    def __getattr__(self, name):\n",
    "        return getattr(self.dataset, name)\n",
    "    \n",
    "dataset = TrainRewardsExtractor(dataset)\n",
    "\n",
    "dataloader = EpisodicDatasetDataloader(dataset, num_episodes_between_updates=1, batch_size=1, num_epochs=2)"
   ]
  },
  {
   "cell_type": "code",
   "execution_count": 10,
   "metadata": {
    "ExecuteTime": {
     "end_time": "2021-02-25T00:01:00.467129Z",
     "start_time": "2021-02-25T00:00:49.173362Z"
    }
   },
   "outputs": [
    {
     "name": "stderr",
     "output_type": "stream",
     "text": [
      "I0224 160049.195 lightning.py:1381] \n",
      "  | Name   | Type              | Params\n",
      "---------------------------------------------\n",
      "0 | scorer | FullyConnectedDQN | 58    \n",
      "---------------------------------------------\n",
      "58        Trainable params\n",
      "0         Non-trainable params\n",
      "58        Total params\n"
     ]
    },
    {
     "name": "stdout",
     "output_type": "stream",
     "text": [
      "Epoch 0: 100%|██████████| 150/150 [00:11<00:00, 13.52it/s, loss=-0.047, v_num=50]  \n"
     ]
    },
    {
     "data": {
      "text/plain": [
       "1"
      ]
     },
     "execution_count": 10,
     "metadata": {
      "bento_obj_id": "139979157612736"
     },
     "output_type": "execute_result"
    }
   ],
   "source": [
    "pl_trainer.fit(ppo_trainer, dataloader)"
   ]
  },
  {
   "cell_type": "markdown",
   "metadata": {},
   "source": [
    "Plot the rewards over training episodes."
   ]
  },
  {
   "cell_type": "code",
   "execution_count": 11,
   "metadata": {
    "ExecuteTime": {
     "end_time": "2021-02-25T00:01:01.214706Z",
     "start_time": "2021-02-25T00:01:00.469074Z"
    }
   },
   "outputs": [
    {
     "data": {
      "text/plain": [
       "(<Figure size 864x720 with 1 Axes>,\n",
       " <matplotlib.axes._subplots.AxesSubplot at 0x7f4df4e8dad0>)"
      ]
     },
     "execution_count": 11,
     "metadata": {
      "bento_obj_id": "139972921706768"
     },
     "output_type": "execute_result"
    },
    {
     "data": {
      "image/png": "[encoded data removed]",
      "text/plain": [
       "<Figure size 864x720 with 1 Axes>"
      ]
     },
     "metadata": {
      "bento_obj_id": "139974490566800"
     },
     "output_type": "display_data"
    }
   ],
   "source": [
    "def plot_rewards(rewards):\n",
    "    fig, ax = plt.subplots(1, 1, figsize=(12, 10));\n",
    "    pd.Series(rewards).rolling(20).mean().plot(ax=ax);\n",
    "    pd.Series(rewards).plot(ax=ax,alpha=0.5,color='lightblue');\n",
    "    ax.set_xlabel('Episodes');\n",
    "    ax.set_ylabel('Reward');\n",
    "    plt.title('PPO on CartPole');\n",
    "    plt.legend(['Moving Average Reward', 'Instantaneous Episode Reward'])\n",
    "    return fig, ax\n",
    "\n",
    "sns.set_style('darkgrid')\n",
    "sns.set()\n",
    "\n",
    "\n",
    "plot_rewards(train_rewards)"
   ]
  },
  {
   "cell_type": "markdown",
   "metadata": {},
   "source": [
    "Print eval rewards"
   ]
  },
  {
   "cell_type": "code",
   "execution_count": 12,
   "metadata": {
    "ExecuteTime": {
     "end_time": "2021-02-25T00:02:12.264614Z",
     "start_time": "2021-02-25T00:01:01.218034Z"
    }
   },
   "outputs": [
    {
     "name": "stderr",
     "output_type": "stream",
     "text": [
      "I0224 160212.086 gymrunner.py:132] For gamma=1.0, average reward is 187.87\n",
      "Rewards list: [200. 190. 190. 200. 200. 200. 187. 188. 198. 200. 200. 200. 200. 165.\n",
      " 169. 200. 200. 153. 200. 176. 200. 200. 200. 161. 200. 200. 200. 200.\n",
      " 200. 200. 200. 170. 189. 138. 200. 200. 200. 183. 200. 154. 200. 134.\n",
      " 194. 178. 180. 170. 200. 162. 168. 200. 176. 155. 200. 182. 200. 200.\n",
      " 200. 186. 169. 178. 150. 200. 178. 172. 154. 200. 200. 200. 154. 200.\n",
      " 200. 192. 195. 155. 200. 200. 200. 200. 200. 157. 136. 200. 200. 200.\n",
      " 200. 172. 200. 200. 200. 171. 200. 200. 157. 193. 145. 200. 200. 200.\n",
      " 200. 200. 200. 200. 172. 200. 155. 200. 131. 200. 200. 200. 178. 162.\n",
      " 184. 200. 200. 200. 175. 200. 200. 200. 200. 200. 200. 134. 200. 200.\n",
      " 146. 200. 200. 191. 200. 200. 200. 200. 150. 194. 200. 200. 200. 200.\n",
      " 158. 131. 161. 200. 200. 200. 165. 200. 114. 200. 200. 200. 175. 200.\n",
      " 200. 200. 200. 123. 200. 195. 197. 200. 193. 200. 200. 200. 200. 200.\n",
      " 200. 200. 181. 200. 190. 191. 125. 165. 200. 200. 200. 200. 200. 181.\n",
      " 200. 200. 195. 200. 200. 200. 181. 144. 200. 200. 200. 187. 184. 200.\n",
      " 200. 200. 142. 200.]\n"
     ]
    },
    {
     "name": "stdout",
     "output_type": "stream",
     "text": [
      "Mean reward: 187.87\n"
     ]
    }
   ],
   "source": [
    "eval_episodes = 200\n",
    "eval_rewards = evaluate_for_n_episodes(eval_episodes, env, agent, 500, num_processes=1).T[0]\n",
    "mean_reward = pd.Series(eval_rewards).mean()\n",
    "print(f'Mean reward: {mean_reward:.2f}')"
   ]
  }
 ],
 "metadata": {
  "anp_cloned_from": {
   "revision_id": "351369499371280"
  },
  "bento_stylesheets": {
   "bento/extensions/flow/main.css": true,
   "bento/extensions/kernel_selector/main.css": true,
   "bento/extensions/kernel_ui/main.css": true,
   "bento/extensions/new_kernel/main.css": true,
   "bento/extensions/system_usage/main.css": true,
   "bento/extensions/theme/main.css": true
  },
  "kernelspec": {
   "display_name": "alexnik (local)",
   "language": "python",
   "name": "alexnik_local"
  },
  "language_info": {
   "codemirror_mode": {
    "name": "ipython",
    "version": 3
   },
   "file_extension": ".py",
   "mimetype": "text/x-python",
   "name": "python",
   "nbconvert_exporter": "python",
   "pygments_lexer": "ipython3",
   "version": "3.7.5+"
  }
 },
 "nbformat": 4,
 "nbformat_minor": 2
}
