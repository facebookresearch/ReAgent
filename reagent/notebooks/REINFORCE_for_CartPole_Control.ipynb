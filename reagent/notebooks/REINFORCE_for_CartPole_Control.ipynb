{
 "cells": [
  {
   "cell_type": "markdown",
   "metadata": {},
   "source": [
    "We will use the [CartPole-v1](https://gym.openai.com/envs/CartPole-v0/) OpenAI Gym environment. For reproducibility, let is fix a random seed."
   ]
  },
  {
   "cell_type": "code",
   "execution_count": 1,
   "metadata": {
    "ExecuteTime": {
     "end_time": "2020-11-20T19:04:57.506601Z",
     "start_time": "2020-11-20T19:04:56.642944Z"
    }
   },
   "outputs": [
    {
     "name": "stderr",
     "output_type": "stream",
     "text": [
      "I1120 110456.710 dataclasses.py:49] USE_VANILLA_DATACLASS: True\n",
      "I1120 110456.712 dataclasses.py:50] ARBITRARY_TYPES_ALLOWED: True\n",
      "I1120 110456.736 io.py:19] Registered Manifold PathManager\n",
      "I1120 110456.984 patch.py:95] Patched torch.load, torch.save, torch.jit.load and save to handle Manifold uri\n",
      "I1120 110457.027 registry_meta.py:19] Adding REGISTRY to type TrainingReport\n",
      "I1120 110457.028 registry_meta.py:40] Not Registering TrainingReport to TrainingReport. Abstract method [] are not implemented.\n",
      "I1120 110457.029 registry_meta.py:19] Adding REGISTRY to type PublishingResult\n",
      "I1120 110457.030 registry_meta.py:40] Not Registering PublishingResult to PublishingResult. Abstract method [] are not implemented.\n",
      "I1120 110457.031 registry_meta.py:19] Adding REGISTRY to type ValidationResult\n",
      "I1120 110457.032 registry_meta.py:40] Not Registering ValidationResult to ValidationResult. Abstract method [] are not implemented.\n",
      "I1120 110457.033 registry_meta.py:31] Registering NoPublishingResults to PublishingResult\n",
      "I1120 110457.033 registry_meta.py:34] Using no_publishing_results instead of NoPublishingResults\n",
      "I1120 110457.034 registry_meta.py:31] Registering NoValidationResults to ValidationResult\n",
      "I1120 110457.035 registry_meta.py:34] Using no_validation_results instead of NoValidationResults\n",
      "I1120 110457.048 registry_meta.py:31] Registering SchedulingFrequencyValidationResults to ValidationResult\n",
      "I1120 110457.049 registry_meta.py:34] Using scheduling_frequency_validation_results instead of SchedulingFrequencyValidationResults\n",
      "I1120 110457.050 registry_meta.py:31] Registering PDIVFilterValidationResults to ValidationResult\n",
      "I1120 110457.050 registry_meta.py:34] Using pdiv_filter_validation_results instead of PDIVFilterValidationResults\n",
      "I1120 110457.051 registry_meta.py:31] Registering Seq2SlateValidationResults to ValidationResult\n",
      "I1120 110457.053 registry_meta.py:34] Using seq2slate_validation_results instead of Seq2SlateValidationResults\n",
      "I1120 110457.053 registry_meta.py:31] Registering SchedulingFrequencyPublishingResults to PublishingResult\n",
      "I1120 110457.054 registry_meta.py:34] Using scheduling_frequency_publishing_results instead of SchedulingFrequencyPublishingResults\n",
      "I1120 110457.055 registry_meta.py:31] Registering PDIVFilterPublishingResults to PublishingResult\n",
      "I1120 110457.055 registry_meta.py:34] Using pdiv_filter_publishing_results instead of PDIVFilterPublishingResults\n",
      "I1120 110457.057 registry_meta.py:31] Registering FeedPublishingResults to PublishingResult\n",
      "I1120 110457.057 registry_meta.py:34] Using feed_publishing_results instead of FeedPublishingResults\n",
      "I1120 110457.058 registry_meta.py:31] Registering ScoreFblearnerPredictorPublishingResult to PublishingResult\n",
      "I1120 110457.059 registry_meta.py:34] Using score_offline_results instead of ScoreFblearnerPredictorPublishingResult\n",
      "I1120 110457.060 registry_meta.py:31] Registering ScoreSeq2SlateOutput to PublishingResult\n",
      "I1120 110457.060 registry_meta.py:34] Using score_seq2slate_offline instead of ScoreSeq2SlateOutput\n",
      "I1120 110457.062 registry_meta.py:31] Registering SlateRewardFeatureImportanceOutput to PublishingResult\n",
      "I1120 110457.062 registry_meta.py:34] Using slate_reward_feature_importance instead of SlateRewardFeatureImportanceOutput\n",
      "I1120 110457.065 dataclasses.py:74] Setting IdMapping.__post_init__ to its __post_init_post_parse__\n",
      "I1120 110457.066 dataclasses.py:74] Setting ModelFeatureConfig.__post_init__ to its __post_init_post_parse__\n",
      "I1120 110457.100 registry_meta.py:19] Adding REGISTRY to type LearningRateSchedulerConfig\n",
      "I1120 110457.100 registry_meta.py:40] Not Registering LearningRateSchedulerConfig to LearningRateSchedulerConfig. Abstract method [] are not implemented.\n",
      "I1120 110457.101 registry_meta.py:31] Registering LambdaLR to LearningRateSchedulerConfig\n",
      "I1120 110457.102 registry_meta.py:31] Registering MultiplicativeLR to LearningRateSchedulerConfig\n",
      "I1120 110457.103 registry_meta.py:31] Registering StepLR to LearningRateSchedulerConfig\n",
      "I1120 110457.105 registry_meta.py:31] Registering MultiStepLR to LearningRateSchedulerConfig\n",
      "I1120 110457.106 registry_meta.py:31] Registering ExponentialLR to LearningRateSchedulerConfig\n",
      "I1120 110457.107 registry_meta.py:31] Registering CosineAnnealingLR to LearningRateSchedulerConfig\n",
      "I1120 110457.108 registry_meta.py:31] Registering CyclicLR to LearningRateSchedulerConfig\n",
      "I1120 110457.109 registry_meta.py:31] Registering OneCycleLR to LearningRateSchedulerConfig\n",
      "I1120 110457.110 registry_meta.py:31] Registering CosineAnnealingWarmRestarts to LearningRateSchedulerConfig\n",
      "I1120 110457.113 registry_meta.py:19] Adding REGISTRY to type OptimizerConfig\n",
      "I1120 110457.113 registry_meta.py:40] Not Registering OptimizerConfig to OptimizerConfig. Abstract method [] are not implemented.\n",
      "I1120 110457.114 registry_meta.py:31] Registering Adam to OptimizerConfig\n",
      "I1120 110457.115 registry_meta.py:31] Registering SGD to OptimizerConfig\n",
      "I1120 110457.117 registry_meta.py:31] Registering AdamW to OptimizerConfig\n",
      "I1120 110457.118 registry_meta.py:31] Registering SparseAdam to OptimizerConfig\n",
      "I1120 110457.119 registry_meta.py:31] Registering Adamax to OptimizerConfig\n",
      "I1120 110457.121 registry_meta.py:31] Registering LBFGS to OptimizerConfig\n",
      "I1120 110457.122 registry_meta.py:31] Registering Rprop to OptimizerConfig\n",
      "I1120 110457.123 registry_meta.py:31] Registering ASGD to OptimizerConfig\n",
      "I1120 110457.125 registry_meta.py:31] Registering Adadelta to OptimizerConfig\n",
      "I1120 110457.126 registry_meta.py:31] Registering Adagrad to OptimizerConfig\n",
      "I1120 110457.127 registry_meta.py:31] Registering RMSprop to OptimizerConfig\n",
      "I1120 110457.374 dataclasses.py:74] Setting Seq2SlateNet.__post_init__ to its __post_init_post_parse__\n",
      "I1120 110457.386 registry_meta.py:19] Adding REGISTRY to type EnvWrapper\n",
      "I1120 110457.386 registry_meta.py:40] Not Registering EnvWrapper to EnvWrapper. Abstract method ['obs_preprocessor', 'serving_obs_preprocessor', 'make'] are not implemented.\n",
      "I1120 110457.387 dataclasses.py:74] Setting EnvWrapper.__post_init__ to its __post_init_post_parse__\n",
      "I1120 110457.391 registry_meta.py:31] Registering ChangingArms to EnvWrapper\n",
      "I1120 110457.409 registry_meta.py:31] Registering Gym to EnvWrapper\n",
      "I1120 110457.414 utils.py:19] Registering id=Pocman-v0, entry_point=reagent.gym.envs.pomdp.pocman:PocManEnv.\n",
      "I1120 110457.415 utils.py:19] Registering id=StringGame-v0, entry_point=reagent.gym.envs.pomdp.string_game:StringGameEnv.\n",
      "I1120 110457.415 utils.py:19] Registering id=LinearDynamics-v0, entry_point=reagent.gym.envs.dynamics.linear_dynamics:LinDynaEnv.\n",
      "I1120 110457.416 utils.py:19] Registering id=PossibleActionsMaskTester-v0, entry_point=reagent.gym.envs.functionality.possible_actions_mask_tester:PossibleActionsMaskTester.\n",
      "I1120 110457.447 registry_meta.py:31] Registering RecSim to EnvWrapper\n",
      "I1120 110457.448 dataclasses.py:74] Setting RecSim.__post_init__ to its __post_init_post_parse__\n",
      "I1120 110457.449 registry_meta.py:31] Registering OraclePVM to EnvWrapper\n",
      "I1120 110457.450 dataclasses.py:74] Setting OraclePVM.__post_init__ to its __post_init_post_parse__\n",
      "I1120 110457.464 env_wrapper.py:40] Env: <TimeLimit<CartPoleEnv<CartPole-v0>>>;\n",
      "observation_space: Box(4,);\n",
      "action_space: Discrete(2);\n"
     ]
    }
   ],
   "source": [
    "from reagent.gym.envs.gym import Gym\n",
    "\n",
    "env = Gym('CartPole-v0')"
   ]
  },
  {
   "cell_type": "code",
   "execution_count": 2,
   "metadata": {
    "ExecuteTime": {
     "end_time": "2020-11-20T19:04:57.547338Z",
     "start_time": "2020-11-20T19:04:57.508500Z"
    }
   },
   "outputs": [],
   "source": [
    "import numpy as np\n",
    "import torch\n",
    "\n",
    "def reset_env(env, seed):\n",
    "    np.random.seed(seed)\n",
    "    env.seed(seed)\n",
    "    env.action_space.seed(seed)\n",
    "    torch.manual_seed(seed)\n",
    "    env.reset()\n",
    "\n",
    "reset_env(env, seed=0)"
   ]
  },
  {
   "cell_type": "markdown",
   "metadata": {},
   "source": [
    "The `policy` is composed of a simple scorer (a MLP) and a softmax sampler. Our `agent` simply executes this policy in the CartPole Environment."
   ]
  },
  {
   "cell_type": "code",
   "execution_count": 3,
   "metadata": {
    "ExecuteTime": {
     "end_time": "2020-11-20T19:04:57.640570Z",
     "start_time": "2020-11-20T19:04:57.549258Z"
    }
   },
   "outputs": [
    {
     "name": "stderr",
     "output_type": "stream",
     "text": [
      "I1120 110457.591 registry_meta.py:19] Adding REGISTRY to type DiscreteDQNNetBuilder\n",
      "I1120 110457.592 registry_meta.py:40] Not Registering DiscreteDQNNetBuilder to DiscreteDQNNetBuilder. Abstract method ['build_q_network'] are not implemented.\n",
      "I1120 110457.592 registry_meta.py:31] Registering Dueling to DiscreteDQNNetBuilder\n",
      "I1120 110457.593 dataclasses.py:74] Setting Dueling.__post_init__ to its __post_init_post_parse__\n",
      "I1120 110457.595 registry_meta.py:31] Registering FullyConnected to DiscreteDQNNetBuilder\n",
      "I1120 110457.596 dataclasses.py:74] Setting FullyConnected.__post_init__ to its __post_init_post_parse__\n",
      "I1120 110457.597 registry_meta.py:31] Registering FullyConnectedWithEmbedding to DiscreteDQNNetBuilder\n",
      "I1120 110457.597 dataclasses.py:74] Setting FullyConnectedWithEmbedding.__post_init__ to its __post_init_post_parse__\n"
     ]
    }
   ],
   "source": [
    "from reagent.net_builder.discrete_dqn.fully_connected import FullyConnected\n",
    "from reagent.gym.utils import build_normalizer\n",
    "\n",
    "norm = build_normalizer(env)\n",
    "net_builder = FullyConnected(sizes=[8], activations=[\"linear\"])\n",
    "cartpole_scorer = net_builder.build_q_network(\n",
    "    state_feature_config=None, \n",
    "    state_normalization_data=norm['state'],\n",
    "    output_dim=len(norm['action'].dense_normalization_parameters))"
   ]
  },
  {
   "cell_type": "code",
   "execution_count": 4,
   "metadata": {
    "ExecuteTime": {
     "end_time": "2020-11-20T19:04:57.681315Z",
     "start_time": "2020-11-20T19:04:57.642496Z"
    }
   },
   "outputs": [],
   "source": [
    "from reagent.gym.policies.policy import Policy\n",
    "from reagent.gym.policies.samplers.discrete_sampler import SoftmaxActionSampler\n",
    "from reagent.gym.agents.agent import Agent\n",
    "\n",
    "\n",
    "policy = Policy(scorer=cartpole_scorer, sampler=SoftmaxActionSampler())\n",
    "agent = Agent.create_for_env(env, policy)"
   ]
  },
  {
   "cell_type": "markdown",
   "metadata": {},
   "source": [
    "Create a trainer that uses the REINFORCE Algorithm to train."
   ]
  },
  {
   "cell_type": "code",
   "execution_count": 5,
   "metadata": {
    "ExecuteTime": {
     "end_time": "2020-11-20T19:04:57.745840Z",
     "start_time": "2020-11-20T19:04:57.682931Z"
    }
   },
   "outputs": [],
   "source": [
    "from reagent.training.reinforce import (\n",
    "    Reinforce, ReinforceParams\n",
    ")\n",
    "from reagent.optimizer.union import classes\n",
    "\n",
    "\n",
    "trainer = Reinforce(policy, ReinforceParams(\n",
    "    gamma=0.99,\n",
    "    optimizer=classes['Adam'](lr=5e-3, weight_decay=1e-3)\n",
    "))"
   ]
  },
  {
   "cell_type": "markdown",
   "metadata": {},
   "source": [
    "Transform the trajectory of observed transitions into a training batch"
   ]
  },
  {
   "cell_type": "code",
   "execution_count": 6,
   "metadata": {
    "ExecuteTime": {
     "end_time": "2020-11-20T19:04:57.785002Z",
     "start_time": "2020-11-20T19:04:57.747286Z"
    }
   },
   "outputs": [],
   "source": [
    "import torch.nn.functional as F\n",
    "import reagent.types as rlt\n",
    "\n",
    "\n",
    "def to_train_batch(trajectory):\n",
    "    return rlt.PolicyGradientInput(\n",
    "        state=rlt.FeatureData(torch.from_numpy(np.stack(trajectory.observation)).float()),\n",
    "        action=F.one_hot(torch.from_numpy(np.stack(trajectory.action)), 2),\n",
    "        reward=torch.tensor(trajectory.reward),\n",
    "        log_prob=torch.tensor(trajectory.log_prob)\n",
    "    )\n"
   ]
  },
  {
   "cell_type": "markdown",
   "metadata": {},
   "source": [
    "RL Interaction Loop"
   ]
  },
  {
   "cell_type": "code",
   "execution_count": 7,
   "metadata": {
    "ExecuteTime": {
     "end_time": "2020-11-20T19:04:57.822558Z",
     "start_time": "2020-11-20T19:04:57.786562Z"
    }
   },
   "outputs": [],
   "source": [
    "from reagent.gym.runners.gymrunner import evaluate_for_n_episodes"
   ]
  },
  {
   "cell_type": "code",
   "execution_count": 8,
   "metadata": {
    "ExecuteTime": {
     "end_time": "2020-11-20T19:04:58.478743Z",
     "start_time": "2020-11-20T19:04:57.824212Z"
    }
   },
   "outputs": [
    {
     "name": "stderr",
     "output_type": "stream",
     "text": [
      "I1120 110458.392 gymrunner.py:134] For gamma=1.0, average reward is 17.7\n",
      "Rewards list: [14. 23. 14. 23. 14. 23. 14. 23. 14. 23. 14. 23. 14. 23. 14. 23. 14. 23.\n",
      " 14. 23. 14. 23. 14. 23. 14. 23. 14. 23. 14. 23. 14. 23. 14. 23. 14. 23.\n",
      " 14. 23. 14. 23. 25. 13. 25. 13. 25. 13. 25. 13. 25. 13. 25. 13. 25. 13.\n",
      " 25. 13. 25. 13. 25. 13. 25. 13. 25. 13. 25. 13. 25. 13. 25. 13. 25. 13.\n",
      " 25. 13. 25. 13. 25. 13. 25. 13. 13. 14. 13. 14. 13. 14. 13. 14. 13. 14.\n",
      " 13. 14. 13. 14. 13. 14. 13. 14. 13. 14.]\n"
     ]
    }
   ],
   "source": [
    "eval_rewards = evaluate_for_n_episodes(100, env, agent, 500, num_processes=20)"
   ]
  },
  {
   "cell_type": "code",
   "execution_count": 9,
   "metadata": {
    "ExecuteTime": {
     "end_time": "2020-11-20T19:05:33.327901Z",
     "start_time": "2020-11-20T19:04:58.481482Z"
    }
   },
   "outputs": [
    {
     "name": "stderr",
     "output_type": "stream",
     "text": [
      "100%|██████████| 500/500 [00:34<00:00, 14.37 epoch/s, reward=200] \n"
     ]
    }
   ],
   "source": [
    "num_episodes = 500\n",
    "reward_min = 20\n",
    "max_steps = 500\n",
    "reward_decay = 0.8\n",
    "\n",
    "train_rewards = []\n",
    "running_reward = reward_min\n",
    "\n",
    "\n",
    "import tqdm.autonotebook as tqdm\n",
    "from reagent.gym.runners.gymrunner import run_episode\n",
    "\n",
    "\n",
    "with tqdm.trange(num_episodes, unit=\" epoch\") as t:\n",
    "    for i in t:\n",
    "        trajectory = run_episode(env, agent, max_steps=max_steps, mdp_id=i)\n",
    "        batch = to_train_batch(trajectory)\n",
    "        trainer.train(batch)\n",
    "        ep_reward = trajectory.calculate_cumulative_reward(1.0)\n",
    "        running_reward *= reward_decay\n",
    "        running_reward += (1 - reward_decay) * ep_reward\n",
    "        train_rewards.append(ep_reward)\n",
    "        t.set_postfix(reward=running_reward)\n",
    "\n"
   ]
  },
  {
   "cell_type": "markdown",
   "metadata": {},
   "source": [
    "Print the mean reward."
   ]
  },
  {
   "cell_type": "code",
   "execution_count": 10,
   "metadata": {
    "ExecuteTime": {
     "end_time": "2020-11-20T19:05:34.634251Z",
     "start_time": "2020-11-20T19:05:33.329881Z"
    }
   },
   "outputs": [
    {
     "name": "stderr",
     "output_type": "stream",
     "text": [
      "I1120 110534.523 gymrunner.py:134] For gamma=1.0, average reward is 200.0\n",
      "Rewards list: [200. 200. 200. 200. 200. 200. 200. 200. 200. 200. 200. 200. 200. 200.\n",
      " 200. 200. 200. 200. 200. 200. 200. 200. 200. 200. 200. 200. 200. 200.\n",
      " 200. 200. 200. 200. 200. 200. 200. 200. 200. 200. 200. 200. 200. 200.\n",
      " 200. 200. 200. 200. 200. 200. 200. 200. 200. 200. 200. 200. 200. 200.\n",
      " 200. 200. 200. 200. 200. 200. 200. 200. 200. 200. 200. 200. 200. 200.\n",
      " 200. 200. 200. 200. 200. 200. 200. 200. 200. 200. 200. 200. 200. 200.\n",
      " 200. 200. 200. 200. 200. 200. 200. 200. 200. 200. 200. 200. 200. 200.\n",
      " 200. 200.]\n"
     ]
    }
   ],
   "source": [
    "eval_episodes = 200\n",
    "eval_rewards = evaluate_for_n_episodes(100, env, agent, 500, num_processes=20).T[0]"
   ]
  },
  {
   "cell_type": "code",
   "execution_count": 11,
   "metadata": {
    "ExecuteTime": {
     "end_time": "2020-11-20T19:05:34.689980Z",
     "start_time": "2020-11-20T19:05:34.636213Z"
    }
   },
   "outputs": [
    {
     "name": "stdout",
     "output_type": "stream",
     "text": [
      "Mean reward: 200.00\n"
     ]
    }
   ],
   "source": [
    "import pandas as pd\n",
    "\n",
    "mean_reward = pd.Series(eval_rewards).mean()\n",
    "print(f'Mean reward: {mean_reward:.2f}')"
   ]
  },
  {
   "cell_type": "markdown",
   "metadata": {},
   "source": [
    "Plot the rewards over training episodes."
   ]
  },
  {
   "cell_type": "code",
   "execution_count": 12,
   "metadata": {
    "ExecuteTime": {
     "end_time": "2020-11-20T19:05:35.227775Z",
     "start_time": "2020-11-20T19:05:34.692199Z"
    }
   },
   "outputs": [
    {
     "name": "stderr",
     "output_type": "stream",
     "text": [
      "\n",
      "Bad key \"axes.color_cycle\" on line 214 in\n",
      "/home/alexnik/.matplotlib/matplotlibrc.\n",
      "You probably need to get an updated matplotlibrc file from\n",
      "https://github.com/matplotlib/matplotlib/blob/v3.1.2/matplotlibrc.template\n",
      "or from the matplotlib source distribution\n"
     ]
    }
   ],
   "source": [
    "from matplotlib import pyplot as plt\n",
    "import seaborn as sns\n",
    "\n",
    "def plot_rewards(rewards):\n",
    "    fig, ax = plt.subplots(1, 1, figsize=(12, 10));\n",
    "    pd.Series(rewards).rolling(50).mean().plot(ax=ax);\n",
    "    pd.Series(rewards).plot(ax=ax,alpha=0.5,color='lightblue');\n",
    "    ax.set_xlabel('Episodes');\n",
    "    ax.set_ylabel('Reward');\n",
    "    plt.title('REINFORCE on CartPole');\n",
    "    plt.legend(['Moving Average Reward', 'Instantaneous Episode Reward'])\n",
    "    return fig, ax\n",
    "\n",
    "sns.set_style('darkgrid')\n",
    "sns.set()\n",
    "\n",
    "\n",
    "plot_rewards(train_rewards);"
   ]
  },
  {
   "cell_type": "code",
   "execution_count": 13,
   "metadata": {
    "ExecuteTime": {
     "end_time": "2020-11-20T19:05:35.655795Z",
     "start_time": "2020-11-20T19:05:35.229537Z"
    }
   },
   "outputs": [
    {
     "data": {
      "image/png": "[encoded data removed]",
      "text/plain": [
       "<Figure size 864x720 with 1 Axes>"
      ]
     },
     "metadata": {
      "bento_obj_id": "139854087711184",
      "needs_background": "light"
     },
     "output_type": "display_data"
    }
   ],
   "source": [
    "plot_rewards(eval_rewards);\n",
    "plt.ylim([0, 510]);"
   ]
  }
 ],
 "metadata": {
  "anp_cloned_from": {
   "revision_id": "351369499371280"
  },
  "bento_stylesheets": {
   "bento/extensions/flow/main.css": true,
   "bento/extensions/kernel_selector/main.css": true,
   "bento/extensions/kernel_ui/main.css": true,
   "bento/extensions/new_kernel/main.css": true,
   "bento/extensions/system_usage/main.css": true,
   "bento/extensions/theme/main.css": true
  },
  "kernelspec": {
   "display_name": "reagent",
   "language": "python",
   "name": "reinforcement_learning"
  },
  "language_info": {
   "codemirror_mode": {
    "name": "ipython",
    "version": 3
   },
   "file_extension": ".py",
   "mimetype": "text/x-python",
   "name": "python",
   "nbconvert_exporter": "python",
   "pygments_lexer": "ipython3",
   "version": "3.7.5+"
  }
 },
 "nbformat": 4,
 "nbformat_minor": 2
}
