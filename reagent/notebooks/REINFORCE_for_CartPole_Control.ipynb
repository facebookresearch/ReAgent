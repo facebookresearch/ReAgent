{
 "cells": [
  {
   "cell_type": "markdown",
   "metadata": {},
   "source": [
    "We will use the [CartPole-v1](https://gym.openai.com/envs/CartPole-v0/) OpenAI Gym environment. For reproducibility, let is fix a random seed."
   ]
  },
  {
   "cell_type": "code",
   "execution_count": 1,
   "metadata": {
    "ExecuteTime": {
     "end_time": "2021-02-19T01:28:45.361540Z",
     "start_time": "2021-02-19T01:28:37.029027Z"
    }
   },
   "outputs": [
    {
     "name": "stderr",
     "output_type": "stream",
     "text": [
      "I0218 172842.725 dataclasses.py:48] USE_VANILLA_DATACLASS: True\n",
      "I0218 172842.726 dataclasses.py:49] ARBITRARY_TYPES_ALLOWED: True\n",
      "W0218 172842.777 file_io.py:72] ** fvcore version of PathManager will be deprecated soon. **\n",
      "** Please migrate to the version in iopath repo. **\n",
      "https://github.com/facebookresearch/iopath \n",
      "\n",
      "W0218 172842.815 manifold.py:86] ** fvcore version of PathManager will be deprecated soon. **\n",
      "** Please migrate to iopath. **\n",
      "\n",
      "I0218 172842.816 io.py:19] Registered Manifold PathManager\n",
      "W0218 172842.820 manifold.py:86] ** fvcore version of PathManager will be deprecated soon. **\n",
      "** Please migrate to iopath. **\n",
      "\n",
      "I0218 172842.821 patch.py:95] Patched torch.load, torch.save, torch.jit.load and save to handle Manifold uri\n",
      "I0218 172843.005 registry_meta.py:19] Adding REGISTRY to type TrainingReport\n",
      "I0218 172843.007 registry_meta.py:40] Not Registering TrainingReport to TrainingReport. Abstract method [] are not implemented.\n",
      "I0218 172843.008 registry_meta.py:19] Adding REGISTRY to type PublishingResult\n",
      "I0218 172843.009 registry_meta.py:40] Not Registering PublishingResult to PublishingResult. Abstract method [] are not implemented.\n",
      "I0218 172843.011 registry_meta.py:19] Adding REGISTRY to type ValidationResult\n",
      "I0218 172843.011 registry_meta.py:40] Not Registering ValidationResult to ValidationResult. Abstract method [] are not implemented.\n",
      "I0218 172843.013 registry_meta.py:31] Registering NoPublishingResults to PublishingResult\n",
      "I0218 172843.014 registry_meta.py:34] Using no_publishing_results instead of NoPublishingResults\n",
      "I0218 172843.015 registry_meta.py:31] Registering NoValidationResults to ValidationResult\n",
      "I0218 172843.016 registry_meta.py:34] Using no_validation_results instead of NoValidationResults\n",
      "I0218 172843.078 registry_meta.py:31] Registering SchedulingFrequencyValidationResults to ValidationResult\n",
      "I0218 172843.082 registry_meta.py:34] Using scheduling_frequency_validation_results instead of SchedulingFrequencyValidationResults\n",
      "I0218 172843.084 registry_meta.py:31] Registering PDIVFilterValidationResults to ValidationResult\n",
      "I0218 172843.085 registry_meta.py:34] Using pdiv_filter_validation_results instead of PDIVFilterValidationResults\n",
      "I0218 172843.087 registry_meta.py:31] Registering Seq2SlateValidationResults to ValidationResult\n",
      "I0218 172843.088 registry_meta.py:34] Using seq2slate_validation_results instead of Seq2SlateValidationResults\n",
      "I0218 172843.089 registry_meta.py:31] Registering SchedulingFrequencyPublishingResults to PublishingResult\n",
      "I0218 172843.090 registry_meta.py:34] Using scheduling_frequency_publishing_results instead of SchedulingFrequencyPublishingResults\n",
      "I0218 172843.091 registry_meta.py:31] Registering PDIVFilterPublishingResults to PublishingResult\n",
      "I0218 172843.092 registry_meta.py:34] Using pdiv_filter_publishing_results instead of PDIVFilterPublishingResults\n",
      "I0218 172843.094 registry_meta.py:31] Registering FeedPublishingResults to PublishingResult\n",
      "I0218 172843.095 registry_meta.py:34] Using feed_publishing_results instead of FeedPublishingResults\n",
      "I0218 172843.097 registry_meta.py:31] Registering ScoreFblearnerPredictorPublishingResult to PublishingResult\n",
      "I0218 172843.097 registry_meta.py:34] Using score_offline_results instead of ScoreFblearnerPredictorPublishingResult\n",
      "I0218 172843.098 registry_meta.py:31] Registering ScoreSeq2SlateOutput to PublishingResult\n",
      "I0218 172843.103 registry_meta.py:34] Using score_seq2slate_offline instead of ScoreSeq2SlateOutput\n",
      "I0218 172843.105 registry_meta.py:31] Registering SlateRewardFeatureImportanceOutput to PublishingResult\n",
      "I0218 172843.106 registry_meta.py:34] Using slate_reward_feature_importance instead of SlateRewardFeatureImportanceOutput\n",
      "I0218 172843.109 dataclasses.py:73] Setting IdMapping.__post_init__ to its __post_init_post_parse__\n",
      "I0218 172843.110 dataclasses.py:73] Setting ModelFeatureConfig.__post_init__ to its __post_init_post_parse__\n",
      "I0218 172843.187 registry_meta.py:19] Adding REGISTRY to type LearningRateSchedulerConfig\n",
      "I0218 172843.189 registry_meta.py:40] Not Registering LearningRateSchedulerConfig to LearningRateSchedulerConfig. Abstract method [] are not implemented.\n",
      "I0218 172843.191 registry_meta.py:19] Adding REGISTRY to type OptimizerConfig\n",
      "I0218 172843.192 registry_meta.py:40] Not Registering OptimizerConfig to OptimizerConfig. Abstract method [] are not implemented.\n",
      "I0218 172843.193 registry_meta.py:31] Registering Adam to OptimizerConfig\n",
      "I0218 172843.195 registry_meta.py:31] Registering SGD to OptimizerConfig\n",
      "I0218 172843.197 registry_meta.py:31] Registering AdamW to OptimizerConfig\n",
      "I0218 172843.198 registry_meta.py:31] Registering SparseAdam to OptimizerConfig\n",
      "I0218 172843.200 registry_meta.py:31] Registering Adamax to OptimizerConfig\n",
      "I0218 172843.203 registry_meta.py:31] Registering LBFGS to OptimizerConfig\n",
      "I0218 172843.205 registry_meta.py:31] Registering Rprop to OptimizerConfig\n",
      "I0218 172843.206 registry_meta.py:31] Registering ASGD to OptimizerConfig\n",
      "I0218 172843.208 registry_meta.py:31] Registering Adadelta to OptimizerConfig\n",
      "I0218 172843.209 registry_meta.py:31] Registering Adagrad to OptimizerConfig\n",
      "I0218 172843.211 registry_meta.py:31] Registering RMSprop to OptimizerConfig\n",
      "I0218 172843.347 dataclasses.py:73] Setting Seq2SlateNet.__post_init__ to its __post_init_post_parse__\n",
      "I0218 172843.462 dataclasses.py:73] Setting CRRWeightFn.__post_init__ to its __post_init_post_parse__\n",
      "I0218 172843.526 registry_meta.py:19] Adding REGISTRY to type EnvWrapper\n",
      "I0218 172843.527 registry_meta.py:40] Not Registering EnvWrapper to EnvWrapper. Abstract method ['make', 'obs_preprocessor', 'serving_obs_preprocessor'] are not implemented.\n",
      "I0218 172843.528 dataclasses.py:73] Setting EnvWrapper.__post_init__ to its __post_init_post_parse__\n",
      "I0218 172843.540 registry_meta.py:31] Registering ChangingArms to EnvWrapper\n",
      "I0218 172843.592 registry_meta.py:31] Registering Gym to EnvWrapper\n",
      "I0218 172843.605 utils.py:18] Registering id=Pocman-v0, entry_point=reagent.gym.envs.pomdp.pocman:PocManEnv.\n",
      "I0218 172843.606 utils.py:18] Registering id=StringGame-v0, entry_point=reagent.gym.envs.pomdp.string_game:StringGameEnv.\n",
      "I0218 172843.607 utils.py:18] Registering id=LinearDynamics-v0, entry_point=reagent.gym.envs.dynamics.linear_dynamics:LinDynaEnv.\n",
      "I0218 172843.608 utils.py:18] Registering id=PossibleActionsMaskTester-v0, entry_point=reagent.gym.envs.functionality.possible_actions_mask_tester:PossibleActionsMaskTester.\n",
      "I0218 172843.609 utils.py:18] Registering id=StringGame-v1, entry_point=reagent.gym.envs.pomdp.string_game_v1:StringGameEnvV1.\n",
      "I0218 172843.699 registry_meta.py:31] Registering RecSim to EnvWrapper\n",
      "I0218 172843.700 dataclasses.py:73] Setting RecSim.__post_init__ to its __post_init_post_parse__\n",
      "I0218 172843.706 registry_meta.py:31] Registering OraclePVM to EnvWrapper\n",
      "I0218 172843.707 dataclasses.py:73] Setting OraclePVM.__post_init__ to its __post_init_post_parse__\n",
      "I0218 172843.728 registry_meta.py:31] Registering ToyVM to EnvWrapper\n",
      "\n",
      "Bad key \"axes.color_cycle\" on line 214 in\n",
      "/home/alexnik/.matplotlib/matplotlibrc.\n",
      "You probably need to get an updated matplotlibrc file from\n",
      "https://github.com/matplotlib/matplotlib/blob/v3.1.2/matplotlibrc.template\n",
      "or from the matplotlib source distribution\n"
     ]
    }
   ],
   "source": [
    "import pytorch_lightning as pl\n",
    "from reagent.gym.envs.gym import Gym\n",
    "import pandas as pd\n",
    "from matplotlib import pyplot as plt\n",
    "import seaborn as sns\n",
    "import numpy as np\n",
    "import torch\n",
    "import torch.nn.functional as F\n",
    "import tqdm.autonotebook as tqdm"
   ]
  },
  {
   "cell_type": "code",
   "execution_count": 2,
   "metadata": {
    "ExecuteTime": {
     "end_time": "2021-02-19T01:28:45.545243Z",
     "start_time": "2021-02-19T01:28:45.363733Z"
    }
   },
   "outputs": [
    {
     "name": "stderr",
     "output_type": "stream",
     "text": [
      "I0218 172845.377 env_wrapper.py:38] Env: <TimeLimit<CartPoleEnv<CartPole-v0>>>;\n",
      "observation_space: Box(4,);\n",
      "action_space: Discrete(2);\n",
      "I0218 172845.379 seed.py:57] Global seed set to 0\n"
     ]
    },
    {
     "data": {
      "text/plain": [
       "0"
      ]
     },
     "execution_count": 2,
     "metadata": {
      "bento_obj_id": "139652928420000"
     },
     "output_type": "execute_result"
    }
   ],
   "source": [
    "env = Gym('CartPole-v0')\n",
    "env.seed(0)\n",
    "env.action_space.seed(0)\n",
    "pl.seed_everything(0)"
   ]
  },
  {
   "cell_type": "markdown",
   "metadata": {},
   "source": [
    "The `policy` is composed of a simple scorer (a MLP) and a softmax sampler. Our `agent` simply executes this policy in the CartPole Environment."
   ]
  },
  {
   "cell_type": "code",
   "execution_count": 3,
   "metadata": {
    "ExecuteTime": {
     "end_time": "2021-02-19T01:28:45.876319Z",
     "start_time": "2021-02-19T01:28:45.547701Z"
    }
   },
   "outputs": [
    {
     "name": "stderr",
     "output_type": "stream",
     "text": [
      "I0218 172845.681 registry_meta.py:19] Adding REGISTRY to type DiscreteDQNNetBuilder\n",
      "I0218 172845.682 registry_meta.py:40] Not Registering DiscreteDQNNetBuilder to DiscreteDQNNetBuilder. Abstract method ['build_q_network'] are not implemented.\n",
      "I0218 172845.683 registry_meta.py:31] Registering Dueling to DiscreteDQNNetBuilder\n",
      "I0218 172845.684 dataclasses.py:73] Setting Dueling.__post_init__ to its __post_init_post_parse__\n",
      "I0218 172845.688 registry_meta.py:31] Registering FullyConnected to DiscreteDQNNetBuilder\n",
      "I0218 172845.689 dataclasses.py:73] Setting FullyConnected.__post_init__ to its __post_init_post_parse__\n",
      "I0218 172845.692 registry_meta.py:31] Registering FullyConnectedWithEmbedding to DiscreteDQNNetBuilder\n",
      "I0218 172845.692 dataclasses.py:73] Setting FullyConnectedWithEmbedding.__post_init__ to its __post_init_post_parse__\n"
     ]
    }
   ],
   "source": [
    "from reagent.net_builder.discrete_dqn.fully_connected import FullyConnected\n",
    "from reagent.gym.utils import build_normalizer\n",
    "\n",
    "norm = build_normalizer(env)\n",
    "net_builder = FullyConnected(sizes=[8], activations=[\"linear\"])\n",
    "cartpole_scorer = net_builder.build_q_network(\n",
    "    state_feature_config=None, \n",
    "    state_normalization_data=norm['state'],\n",
    "    output_dim=len(norm['action'].dense_normalization_parameters))"
   ]
  },
  {
   "cell_type": "code",
   "execution_count": 4,
   "metadata": {
    "ExecuteTime": {
     "end_time": "2021-02-19T01:28:46.053042Z",
     "start_time": "2021-02-19T01:28:45.878776Z"
    }
   },
   "outputs": [],
   "source": [
    "from reagent.gym.policies.policy import Policy\n",
    "from reagent.gym.policies.samplers.discrete_sampler import SoftmaxActionSampler\n",
    "from reagent.gym.agents.agent import Agent\n",
    "\n",
    "\n",
    "policy = Policy(scorer=cartpole_scorer, sampler=SoftmaxActionSampler())\n",
    "agent = Agent.create_for_env(env, policy)"
   ]
  },
  {
   "cell_type": "markdown",
   "metadata": {},
   "source": [
    "Create a trainer that uses the REINFORCE Algorithm to train."
   ]
  },
  {
   "cell_type": "code",
   "execution_count": 5,
   "metadata": {
    "ExecuteTime": {
     "end_time": "2021-02-19T01:28:46.227348Z",
     "start_time": "2021-02-19T01:28:46.055122Z"
    }
   },
   "outputs": [],
   "source": [
    "from reagent.training.reinforce_trainer import ReinforceTrainer\n",
    "from reagent.optimizer.union import classes\n",
    "\n",
    "\n",
    "reinforce_trainer = ReinforceTrainer(\n",
    "    policy=policy,\n",
    "    gamma=0.99,\n",
    "    optimizer=classes['Adam'](lr=5e-3, weight_decay=1e-3),\n",
    ")"
   ]
  },
  {
   "cell_type": "markdown",
   "metadata": {},
   "source": [
    "RL Interaction Loop"
   ]
  },
  {
   "cell_type": "code",
   "execution_count": 6,
   "metadata": {
    "ExecuteTime": {
     "end_time": "2021-02-19T01:28:50.917749Z",
     "start_time": "2021-02-19T01:28:46.229352Z"
    }
   },
   "outputs": [
    {
     "name": "stderr",
     "output_type": "stream",
     "text": [
      "I0218 172848.597 gymrunner.py:132] For gamma=1.0, average reward is 18.6\n",
      "Rewards list: [15. 18. 15. 18. 15. 18. 15. 18. 15. 18. 15. 18. 15. 18. 15. 18. 15. 18.\n",
      " 15. 18. 15. 18. 15. 18. 15. 18. 15. 18. 15. 18. 15. 18. 15. 18. 15. 18.\n",
      " 15. 18. 15. 18. 29. 12. 29. 12. 29. 12. 29. 12. 29. 12. 29. 12. 29. 12.\n",
      " 29. 12. 29. 12. 29. 12. 29. 12. 29. 12. 29. 12. 29. 12. 29. 12. 29. 12.\n",
      " 29. 12. 29. 12. 29. 12. 29. 12. 17. 21. 17. 21. 17. 21. 17. 21. 17. 21.\n",
      " 17. 21. 17. 21. 17. 21. 17. 21. 17. 21.]\n"
     ]
    }
   ],
   "source": [
    "from reagent.gym.runners.gymrunner import evaluate_for_n_episodes\n",
    "eval_rewards = evaluate_for_n_episodes(100, env, agent, 500, num_processes=20)"
   ]
  },
  {
   "cell_type": "markdown",
   "metadata": {},
   "source": [
    "Make sure we keep track of rewards during training"
   ]
  },
  {
   "cell_type": "code",
   "execution_count": 7,
   "metadata": {
    "ExecuteTime": {
     "end_time": "2021-02-19T01:28:51.083036Z",
     "start_time": "2021-02-19T01:28:50.919858Z"
    }
   },
   "outputs": [],
   "source": [
    "train_rewards = []\n",
    "\n",
    "def append_to_train_rewards(batch, *args):\n",
    "    ep_reward = batch[\"reward\"].sum().item()\n",
    "    train_rewards.append(ep_reward)\n",
    "\n",
    "reinforce_trainer.on_train_batch_start = append_to_train_rewards"
   ]
  },
  {
   "cell_type": "markdown",
   "metadata": {},
   "source": [
    "Run training loop (managed by Pytorch Lightning)"
   ]
  },
  {
   "cell_type": "code",
   "execution_count": 8,
   "metadata": {
    "ExecuteTime": {
     "end_time": "2021-02-19T01:28:51.257067Z",
     "start_time": "2021-02-19T01:28:51.085755Z"
    }
   },
   "outputs": [
    {
     "name": "stderr",
     "output_type": "stream",
     "text": [
      "I0218 172851.087 seed.py:57] Global seed set to 0\n"
     ]
    },
    {
     "data": {
      "text/plain": [
       "0"
      ]
     },
     "execution_count": 8,
     "metadata": {
      "bento_obj_id": "139652928420000"
     },
     "output_type": "execute_result"
    }
   ],
   "source": [
    "pl.seed_everything(0)"
   ]
  },
  {
   "cell_type": "code",
   "execution_count": 9,
   "metadata": {
    "ExecuteTime": {
     "end_time": "2021-02-19T01:28:51.427124Z",
     "start_time": "2021-02-19T01:28:51.259240Z"
    }
   },
   "outputs": [],
   "source": [
    "num_episodes = 175\n",
    "reward_min = 20\n",
    "max_steps = 200\n",
    "reward_decay = 0.8"
   ]
  },
  {
   "cell_type": "code",
   "execution_count": 10,
   "metadata": {
    "ExecuteTime": {
     "end_time": "2021-02-19T01:29:22.692374Z",
     "start_time": "2021-02-19T01:28:51.429096Z"
    }
   },
   "outputs": [
    {
     "name": "stderr",
     "output_type": "stream",
     "text": [
      "I0218 172851.442 distributed.py:54] GPU available: False, used: False\n",
      "I0218 172851.443 distributed.py:54] TPU available: None, using: 0 TPU cores\n",
      "I0218 172851.474 lightning.py:1381] \n",
      "  | Name   | Type              | Params\n",
      "---------------------------------------------\n",
      "0 | scorer | FullyConnectedDQN | 58    \n",
      "---------------------------------------------\n",
      "58        Trainable params\n",
      "0         Non-trainable params\n",
      "58        Total params\n"
     ]
    },
    {
     "name": "stdout",
     "output_type": "stream",
     "text": [
      "Epoch 0: 100%|██████████| 175/175 [00:31<00:00,  5.64it/s, loss=-0.075, v_num=0] \n"
     ]
    },
    {
     "data": {
      "text/plain": [
       "1"
      ]
     },
     "execution_count": 10,
     "metadata": {
      "bento_obj_id": "139652928420032"
     },
     "output_type": "execute_result"
    }
   ],
   "source": [
    "from reagent.gym.datasets.episodic_dataset import EpisodicDataset\n",
    "\n",
    "pl_trainer = pl.Trainer(max_epochs=1, deterministic=True)\n",
    "dataset = EpisodicDataset(env=env, agent=agent, num_episodes=num_episodes, seed=0, max_steps=max_steps)\n",
    "pl_trainer.fit(reinforce_trainer, dataset)"
   ]
  },
  {
   "cell_type": "markdown",
   "metadata": {},
   "source": [
    "Plot the rewards over training episodes."
   ]
  },
  {
   "cell_type": "code",
   "execution_count": 11,
   "metadata": {
    "ExecuteTime": {
     "end_time": "2021-02-19T01:29:23.910088Z",
     "start_time": "2021-02-19T01:29:22.694349Z"
    }
   },
   "outputs": [
    {
     "data": {
      "text/plain": [
       "(<Figure size 864x720 with 1 Axes>,\n",
       " <matplotlib.axes._subplots.AxesSubplot at 0x7f02c548e210>)"
      ]
     },
     "execution_count": 11,
     "metadata": {
      "bento_obj_id": "139646499231216"
     },
     "output_type": "execute_result"
    },
    {
     "data": {
      "image/png": "[encoded data removed]",
      "text/plain": [
       "<Figure size 864x720 with 1 Axes>"
      ]
     },
     "metadata": {
      "bento_obj_id": "139649876607056"
     },
     "output_type": "display_data"
    }
   ],
   "source": [
    "def plot_rewards(rewards):\n",
    "    fig, ax = plt.subplots(1, 1, figsize=(12, 10));\n",
    "    pd.Series(rewards).rolling(50).mean().plot(ax=ax);\n",
    "    pd.Series(rewards).plot(ax=ax,alpha=0.5,color='lightblue');\n",
    "    ax.set_xlabel('Episodes');\n",
    "    ax.set_ylabel('Reward');\n",
    "    plt.title('REINFORCE on CartPole');\n",
    "    plt.legend(['Moving Average Reward', 'Instantaneous Episode Reward'])\n",
    "    return fig, ax\n",
    "\n",
    "sns.set_style('darkgrid')\n",
    "sns.set()\n",
    "\n",
    "\n",
    "plot_rewards(train_rewards)"
   ]
  },
  {
   "cell_type": "markdown",
   "metadata": {},
   "source": [
    "Print eval rewards"
   ]
  },
  {
   "cell_type": "code",
   "execution_count": 12,
   "metadata": {
    "ExecuteTime": {
     "end_time": "2021-02-19T01:30:38.198457Z",
     "start_time": "2021-02-19T01:29:23.913616Z"
    }
   },
   "outputs": [
    {
     "name": "stderr",
     "output_type": "stream",
     "text": [
      "I0218 173038.014 gymrunner.py:132] For gamma=1.0, average reward is 198.59\n",
      "Rewards list: [200. 200. 200. 200. 200. 200. 200. 167. 200. 200. 200. 200. 200. 200.\n",
      " 200. 200. 200. 200. 200. 200. 200. 200. 200. 200. 200. 200. 200. 200.\n",
      " 200. 200. 200. 200. 200. 200. 200. 200. 200. 200. 200. 200. 200. 200.\n",
      " 200. 200. 200. 200. 200. 100. 200. 200. 200. 200. 200. 200. 200. 200.\n",
      " 200. 200. 200. 200. 200. 200. 200. 200. 200. 200. 200. 200. 200. 200.\n",
      " 200. 191. 200. 200. 200. 200. 200. 200. 200. 200. 200. 200. 200. 200.\n",
      " 200. 200. 200. 200. 200. 200. 200. 200. 200. 200. 200. 200. 170. 200.\n",
      " 200. 200. 200. 200. 200. 200. 200. 200. 200. 200. 200. 200. 200. 200.\n",
      " 200. 200. 151. 200. 200. 200. 200. 200. 200. 200. 200. 200. 200. 200.\n",
      " 200. 200. 200. 200. 200. 200. 200. 200. 200. 200. 200. 200. 200. 200.\n",
      " 200. 200. 200. 200. 200. 200. 200. 200. 200. 200. 200. 200. 200. 200.\n",
      " 200. 200. 200. 200. 200. 200. 200. 200. 200. 200. 200. 200. 200. 190.\n",
      " 200. 200. 149. 200. 200. 200. 200. 200. 200. 200. 200. 200. 200. 200.\n",
      " 200. 200. 200. 200. 200. 200. 200. 200. 200. 200. 200. 200. 200. 200.\n",
      " 200. 200. 200. 200.]\n"
     ]
    },
    {
     "name": "stdout",
     "output_type": "stream",
     "text": [
      "Mean reward: 198.59\n"
     ]
    }
   ],
   "source": [
    "eval_episodes = 200\n",
    "eval_rewards = evaluate_for_n_episodes(eval_episodes, env, agent, 500, num_processes=1).T[0]\n",
    "mean_reward = pd.Series(eval_rewards).mean()\n",
    "print(f'Mean reward: {mean_reward:.2f}')"
   ]
  }
 ],
 "metadata": {
  "anp_cloned_from": {
   "revision_id": "351369499371280"
  },
  "bento_stylesheets": {
   "bento/extensions/flow/main.css": true,
   "bento/extensions/kernel_selector/main.css": true,
   "bento/extensions/kernel_ui/main.css": true,
   "bento/extensions/new_kernel/main.css": true,
   "bento/extensions/system_usage/main.css": true,
   "bento/extensions/theme/main.css": true
  },
  "kernelspec": {
   "display_name": "alexnik (local)",
   "language": "python",
   "name": "alexnik_local"
  },
  "language_info": {
   "codemirror_mode": {
    "name": "ipython",
    "version": 3
   },
   "file_extension": ".py",
   "mimetype": "text/x-python",
   "name": "python",
   "nbconvert_exporter": "python",
   "pygments_lexer": "ipython3",
   "version": "3.7.5+"
  }
 },
 "nbformat": 4,
 "nbformat_minor": 2
}
